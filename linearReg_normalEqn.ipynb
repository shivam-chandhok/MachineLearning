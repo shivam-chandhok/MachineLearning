{
 "cells": [
  {
   "cell_type": "code",
   "execution_count": 1,
   "metadata": {
    "collapsed": true
   },
   "outputs": [],
   "source": [
    "import matplotlib.pyplot as plt\n",
    "import numpy as np\n",
    "import tensorflow as tf\n",
    "from tensorflow.python.framework import ops\n",
    "ops.reset_default_graph()"
   ]
  },
  {
   "cell_type": "code",
   "execution_count": 2,
   "metadata": {
    "collapsed": true
   },
   "outputs": [],
   "source": [
    "##Start graph session\n",
    "\n",
    "sess = tf.Session()"
   ]
  },
  {
   "cell_type": "code",
   "execution_count": 24,
   "metadata": {},
   "outputs": [],
   "source": [
    "##randomly generate data\n",
    "m=2\n",
    "x_vals = np.linspace(0, 10, 100)##100 pts between 0 and 10 \n",
    "y_vals = m*x_vals + np.random.normal(0, 1, 100)##y_val=m*x_val+noise\n",
    "\n"
   ]
  },
  {
   "cell_type": "code",
   "execution_count": null,
   "metadata": {
    "collapsed": true
   },
   "outputs": [],
   "source": [
    "'A linear regression can be written as y=(theta)*x \n",
    "\"where theta is the parameter matrix whose value is to be found\"'\n",
    "\n",
    "\n",
    "\"theta=(t(x)*x)^(-1)*t(x)*y    using normal equation,where t(x is transpose of matrix x)\"\n",
    "\n",
    "\n"
   ]
  },
  {
   "cell_type": "code",
   "execution_count": 26,
   "metadata": {
    "collapsed": true
   },
   "outputs": [],
   "source": [
    "\n",
    "\n",
    "x_vals_column = np.transpose(np.matrix(x_vals))\n",
    "ones_column = np.transpose(np.matrix(np.repeat(1, 100)))\n",
    "x = np.column_stack((x_vals_column, ones_column))\n",
    "\n",
    "\n",
    "y = np.transpose(np.matrix(y_vals))\n"
   ]
  },
  {
   "cell_type": "code",
   "execution_count": 27,
   "metadata": {},
   "outputs": [],
   "source": [
    "x_tensor = tf.constant(x)\n",
    "y_tensor = tf.constant(y)"
   ]
  },
  {
   "cell_type": "code",
   "execution_count": 28,
   "metadata": {},
   "outputs": [],
   "source": [
    "##solving normal equation\n",
    "\n",
    "\n",
    "tx_x = tf.matmul(tf.transpose(x_tensor), x_tensor)\n",
    "tx_x_inv = tf.matrix_inverse(tx_x)\n",
    "product = tf.matmul(tx_x_inv, tf.transpose(x_tensor))\n",
    "solution = tf.matmul(product, y_tensor)\n",
    "\n",
    "solution_eval = sess.run(solution)"
   ]
  },
  {
   "cell_type": "code",
   "execution_count": 29,
   "metadata": {
    "collapsed": true
   },
   "outputs": [],
   "source": [
    "# Extract coefficients\n",
    "slope = solution_eval[0][0]\n",
    "y_intercept = solution_eval[1][0]"
   ]
  },
  {
   "cell_type": "code",
   "execution_count": 30,
   "metadata": {},
   "outputs": [
    {
     "name": "stdout",
     "output_type": "stream",
     "text": [
      "slope: 2.0123953501\n",
      "y_intercept: -0.369184191603\n"
     ]
    }
   ],
   "source": [
    "print('slope: ' + str(slope))\n",
    "print('y_intercept: ' + str(y_intercept))\n",
    "\n",
    "# Get best fit line\n",
    "best_fit = []\n",
    "for i in x_vals:\n",
    "    best_fit.append(slope*i+y_intercept)##using y=slope*x_val+y_intercept"
   ]
  },
  {
   "cell_type": "code",
   "execution_count": 31,
   "metadata": {},
   "outputs": [
    {
     "data": {
      "image/png": "[encoded data removed]",
      "text/plain": [
       "<matplotlib.figure.Figure at 0x1164129d0>"
      ]
     },
     "metadata": {},
     "output_type": "display_data"
    }
   ],
   "source": [
    "plt.plot(x_vals, y_vals, 'o', label='Data')\n",
    "plt.plot(x_vals, best_fit, 'r-', label='Best fit line', linewidth=3)\n",
    "plt.legend(loc='upper left')\n",
    "plt.show()"
   ]
  },
  {
   "cell_type": "code",
   "execution_count": null,
   "metadata": {
    "collapsed": true
   },
   "outputs": [],
   "source": []
  }
 ],
 "metadata": {
  "kernelspec": {
   "display_name": "Python 2",
   "language": "python",
   "name": "python2"
  },
  "language_info": {
   "codemirror_mode": {
    "name": "ipython",
    "version": 2
   },
   "file_extension": ".py",
   "mimetype": "text/x-python",
   "name": "python",
   "nbconvert_exporter": "python",
   "pygments_lexer": "ipython2",
   "version": "2.7.13"
  }
 },
 "nbformat": 4,
 "nbformat_minor": 2
}
