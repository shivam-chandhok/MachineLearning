{
 "cells": [
  {
   "cell_type": "code",
   "execution_count": 54,
   "metadata": {},
   "outputs": [],
   "source": [
    "import tensorflow as tf\n",
    "import tensorflow.examples.tutorials.mnist.input_data as input_data\n",
    "#from libs.utils import *\n",
    "import matplotlib.pyplot as plt\n"
   ]
  },
  {
   "cell_type": "code",
   "execution_count": 55,
   "metadata": {},
   "outputs": [
    {
     "name": "stdout",
     "output_type": "stream",
     "text": [
      "Extracting MNIST_data/train-images-idx3-ubyte.gz\n",
      "Extracting MNIST_data/train-labels-idx1-ubyte.gz\n",
      "Extracting MNIST_data/t10k-images-idx3-ubyte.gz\n",
      "Extracting MNIST_data/t10k-labels-idx1-ubyte.gz\n"
     ]
    }
   ],
   "source": [
    "mnist = input_data.read_data_sets('MNIST_data/', one_hot=True)\n",
    "x = tf.placeholder(tf.float32, [None, 784])\n",
    "y = tf.placeholder(tf.float32, [None, 10])\n"
   ]
  },
  {
   "cell_type": "code",
   "execution_count": 56,
   "metadata": {
    "collapsed": true
   },
   "outputs": [],
   "source": [
    "x_tensor = tf.reshape(x, [-1, 28, 28, 1])\n",
    "\n"
   ]
  },
  {
   "cell_type": "code",
   "execution_count": 57,
   "metadata": {},
   "outputs": [],
   "source": [
    "filter_size = 5\n",
    "n_filters = 16\n",
    "filter_shape = [filter_size, filter_size, 1, n_filters]\n",
    "W1 = tf.Variable(tf.truncated_normal(filter_shape, stddev=0.1))\n",
    "b1 = tf.Variable(tf.constant(0.1, shape=[n_filters]))\n",
    "conv1 = tf.nn.conv2d(input=x_tensor,\n",
    "                 filter=W1,\n",
    "                 strides=[1, 2, 2, 1],\n",
    "                 padding='SAME')\n",
    "h1=tf.nn.bias_add(conv1, b1)\n",
    "z1 = tf.nn.relu(h1)\n",
    "\n",
    "\n",
    "\n",
    "filter_size = 5\n",
    "n_filters = 16\n",
    "filter_shape = [filter_size, filter_size, n_filters, n_filters]\n",
    "W2 = tf.Variable(tf.truncated_normal(filter_shape, stddev=0.1))\n",
    "b2 = tf.Variable(tf.constant(0.1, shape=[n_filters]))\n",
    "conv2 = tf.nn.conv2d(input=conv1,\n",
    "                 filter=W2,\n",
    "                 strides=[1, 2, 2, 1],\n",
    "                 padding='SAME')\n",
    "h2=tf.nn.bias_add(conv2, b2)\n",
    "z2 = tf.nn.relu(h2)\n",
    "\n",
    "\n",
    "\n",
    "conv_flat = tf.reshape(h2, [-1, 7 * 7 * n_filters])\n",
    "n_fc1 = 1024\n",
    "W_fc1 = tf.Variable(tf.truncated_normal([7 * 7 * n_filters, n_fc1], stddev=0.1))\n",
    "b_fc1 = tf.Variable(tf.constant(0.1, shape=[n_fc1]))\n",
    "h_fc1 = tf.matmul(conv_flat, W_fc1) + b_fc1\n",
    "z_fc1 = tf.nn.relu(h_fc1)\n",
    "\n",
    "\n",
    "\n",
    "W_fc2 = tf.Variable(tf.truncated_normal([n_fc1,10], stddev=0.1))\n",
    "b_fc2 = tf.Variable(tf.constant(0.1, shape=[10]))\n",
    "y_pred = tf.nn.softmax(tf.matmul(z_fc1, W_fc2) + b_fc2)"
   ]
  },
  {
   "cell_type": "code",
   "execution_count": 58,
   "metadata": {},
   "outputs": [
    {
     "name": "stdout",
     "output_type": "stream",
     "text": [
      "0.964\n",
      "0.9776\n",
      "0.9742\n",
      "0.9802\n",
      "0.9788\n"
     ]
    }
   ],
   "source": [
    "cross_entropy = -tf.reduce_sum(y * tf.log(y_pred))\n",
    "optimizer = tf.train.AdamOptimizer().minimize(cross_entropy)\n",
    "\n",
    "# %% Monitor accuracy\n",
    "correct_prediction = tf.equal(tf.argmax(y_pred, 1), tf.argmax(y, 1))\n",
    "accuracy = tf.reduce_mean(tf.cast(correct_prediction, 'float'))\n",
    "\n",
    "# %% We now create a new session to actually perform the initialization the\n",
    "# variables:\n",
    "sess = tf.Session()\n",
    "sess.run(tf.global_variables_initializer())\n",
    "\n",
    "# %% We'll train in minibatches and report accuracy:\n",
    "batch_size = 100\n",
    "n_epochs = 5\n",
    "for epoch_i in range(n_epochs):\n",
    "    for batch_i in range(mnist.train.num_examples // batch_size):\n",
    "        batch_xs, batch_ys = mnist.train.next_batch(batch_size)\n",
    "        sess.run(optimizer, feed_dict={\n",
    "            x: batch_xs, y: batch_ys})\n",
    "    print(sess.run(accuracy,\n",
    "                   feed_dict={\n",
    "                       x: mnist.validation.images,\n",
    "                       y: mnist.validation.labels,\n",
    "                       \n",
    "                   }))"
   ]
  },
  {
   "cell_type": "code",
   "execution_count": null,
   "metadata": {},
   "outputs": [],
   "source": []
  },
  {
   "cell_type": "code",
   "execution_count": null,
   "metadata": {
    "collapsed": true
   },
   "outputs": [],
   "source": []
  }
 ],
 "metadata": {
  "kernelspec": {
   "display_name": "Python 2",
   "language": "python",
   "name": "python2"
  },
  "language_info": {
   "codemirror_mode": {
    "name": "ipython",
    "version": 2
   },
   "file_extension": ".py",
   "mimetype": "text/x-python",
   "name": "python",
   "nbconvert_exporter": "python",
   "pygments_lexer": "ipython2",
   "version": "2.7.13"
  }
 },
 "nbformat": 4,
 "nbformat_minor": 2
}
