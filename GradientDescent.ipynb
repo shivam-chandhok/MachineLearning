{
 "cells": [
  {
   "cell_type": "code",
   "execution_count": 4,
   "metadata": {
    "collapsed": true
   },
   "outputs": [],
   "source": [
    "import tensorflow as tf\n",
    "sess=tf.Session()"
   ]
  },
  {
   "cell_type": "code",
   "execution_count": 19,
   "metadata": {},
   "outputs": [
    {
     "name": "stdout",
     "output_type": "stream",
     "text": [
      "Optimizing a Multiplication Gate Output to 60.\n",
      "4.0 * 5 = 20.0\n",
      "8.0 * 5 = 40.0\n",
      "10.0 * 5 = 50.0\n",
      "11.0 * 5 = 55.0\n",
      "11.5 * 5 = 57.5\n",
      "11.75 * 5 = 58.75\n",
      "11.875 * 5 = 59.375\n",
      "11.9375 * 5 = 59.6875\n",
      "11.9688 * 5 = 59.8438\n",
      "11.9844 * 5 = 59.9219\n",
      "11.9922 * 5 = 59.9609\n",
      "11.9961 * 5 = 59.9805\n",
      "11.998 * 5 = 59.9902\n",
      "11.999 * 5 = 59.9951\n",
      "11.9995 * 5 = 59.9976\n"
     ]
    }
   ],
   "source": [
    "##FINDING optimum value of 'a' to satisfy eqn 60=a*x_val \n",
    "##x_val taken as 5\n",
    "a=tf.Variable(tf.constant(4.))##initialize a as 4\n",
    "x_val=5##fixing value of a\n",
    "x_data=tf.placeholder(dtype=tf.float32)\n",
    "multiplication=tf.multiply(a,x_data)\n",
    "loss = tf.square(tf.subtract(multiplication, 60.))\n",
    "init = tf.global_variables_initializer()\n",
    "sess.run(init)\n",
    "\n",
    "my_opt = tf.train.GradientDescentOptimizer(0.01)\n",
    "train_step = my_opt.minimize(loss)\n",
    "print('Optimizing a Multiplication Gate Output to 60.')\n",
    "for i in range(15):\n",
    "    a_val = sess.run(a)\n",
    "    mult_output = sess.run(multiplication, feed_dict={x_data: x_val})\n",
    "    print(str(a_val) + ' * ' + str(x_val) + ' = ' + str(mult_output))\n",
    "    sess.run(train_step, feed_dict={x_data: x_val})\n",
    "    \n"
   ]
  },
  {
   "cell_type": "code",
   "execution_count": 22,
   "metadata": {},
   "outputs": [
    {
     "name": "stdout",
     "output_type": "stream",
     "text": [
      "Optimizing a Multiplication Gate Output to 60.\n",
      "4.0 * 5+4.0 = 24.0\n",
      "7.6 * 5+4.72 = 42.72\n",
      "9.328 * 5+5.0656 = 51.7056\n",
      "10.1574 * 5+5.23149 = 56.0187\n",
      "10.5556 * 5+5.31111 = 58.089\n",
      "10.7467 * 5+5.34933 = 59.0827\n",
      "10.8384 * 5+5.36768 = 59.5597\n",
      "10.8824 * 5+5.37649 = 59.7887\n",
      "10.9036 * 5+5.38071 = 59.8986\n",
      "10.9137 * 5+5.38274 = 59.9513\n",
      "10.9186 * 5+5.38372 = 59.9766\n",
      "10.9209 * 5+5.38418 = 59.9888\n",
      "10.922 * 5+5.38441 = 59.9946\n",
      "10.9226 * 5+5.38452 = 59.9974\n",
      "10.9228 * 5+5.38457 = 59.9988\n"
     ]
    }
   ],
   "source": [
    "##FINDING optimum values of 'a' and 'b' to satisfy eqn 60=a*x_val+b \n",
    "##x_val taken as 5\n",
    "a=tf.Variable(tf.constant(4.))##initialize a as 4\n",
    "b=tf.Variable(tf.constant(4.))##initialize b as 4\n",
    "x_val=5##fixing value of a\n",
    "x_data=tf.placeholder(dtype=tf.float32)\n",
    "fx=tf.add(tf.multiply(a,x_data),b)\n",
    "loss = tf.square(tf.subtract(fx, 60.))\n",
    "init = tf.global_variables_initializer()\n",
    "sess.run(init)\n",
    "\n",
    "my_opt = tf.train.GradientDescentOptimizer(0.01)\n",
    "train_step = my_opt.minimize(loss)\n",
    "print('Optimizing a Multiplication Gate Output to 60.')\n",
    "for i in range(15):\n",
    "    a_val = sess.run(a)\n",
    "    b_val = sess.run(b)\n",
    "    fx_output = sess.run(fx, feed_dict={x_data: x_val})\n",
    "    print(str(a_val) + ' * ' + str(x_val) + '+' + str(b_val)+' = ' + str(fx_output))\n",
    "    sess.run(train_step, feed_dict={x_data: x_val})\n",
    "    \n",
    "#The solution here is not unique\n",
    "##We would get different soln if we initialize a,b differently"
   ]
  },
  {
   "cell_type": "code",
   "execution_count": null,
   "metadata": {
    "collapsed": true
   },
   "outputs": [],
   "source": []
  }
 ],
 "metadata": {
  "kernelspec": {
   "display_name": "Python 2",
   "language": "python",
   "name": "python2"
  },
  "language_info": {
   "codemirror_mode": {
    "name": "ipython",
    "version": 2
   },
   "file_extension": ".py",
   "mimetype": "text/x-python",
   "name": "python",
   "nbconvert_exporter": "python",
   "pygments_lexer": "ipython2",
   "version": "2.7.13"
  }
 },
 "nbformat": 4,
 "nbformat_minor": 2
}
