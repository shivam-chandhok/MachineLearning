{
 "cells": [
  {
   "cell_type": "code",
   "execution_count": 2,
   "metadata": {
    "collapsed": true
   },
   "outputs": [],
   "source": [
    "import tensorflow as tf\n",
    "import numpy as np\n",
    "import math\n",
    "import matplotlib.pyplot as plt"
   ]
  },
  {
   "cell_type": "code",
   "execution_count": 3,
   "metadata": {
    "collapsed": true
   },
   "outputs": [],
   "source": [
    "def autoencoder(dimensions=[784, 512, 256, 64]):\n",
    "    \n",
    "    x = tf.placeholder(tf.float32, [None, dimensions[0]], name='x')\n",
    "    inp = x\n",
    "    \n",
    "    \n",
    "    \n",
    "    encoder = []\n",
    "    \n",
    "    \n",
    "    \n",
    "    \n",
    "    \n",
    "    for layer_i, n_output in enumerate(dimensions[1:]):\n",
    "        n_input= dimensions[layer_i ]\n",
    "        W = tf.Variable(tf.truncated_normal([n_input,n_output], stddev=0.1))\n",
    "        b = tf.Variable(tf.zeros([n_output]))\n",
    "        encoder.append(W)\n",
    "        output = tf.nn.tanh(tf.matmul(inp, W) + b)\n",
    "        inp = output\n",
    "\n",
    "    # %% latent representation\n",
    "    z = inp\n",
    "    encoder.reverse()\n",
    "\n",
    "\n",
    "    # %% Build the decoder using the same weights\n",
    "    for layer_i, n_output in enumerate(dimensions[:-1][::-1]):\n",
    "        W = tf.transpose(encoder[layer_i])\n",
    "        b = tf.Variable(tf.zeros([n_output]))\n",
    "        output = tf.nn.tanh(tf.matmul(inp, W) + b)\n",
    "        inp = output\n",
    "\n",
    "    # %% now have the reconstruction through the network\n",
    "    y = inp\n",
    "\n",
    "    # %% cost function measures pixel-wise difference\n",
    "    cost = tf.reduce_sum(tf.square(y - x))\n",
    "    return {'x': x, 'z': z, 'y': y, 'cost': cost}"
   ]
  },
  {
   "cell_type": "code",
   "execution_count": 4,
   "metadata": {},
   "outputs": [],
   "source": [
    "from keras.datasets import cifar10\n",
    "\n",
    "\n",
    "(x_train, y_train), (x_test, y_test) = cifar10.load_data()\n",
    "n_examples = 40000\n",
    "    "
   ]
  },
  {
   "cell_type": "code",
   "execution_count": 5,
   "metadata": {},
   "outputs": [
    {
     "name": "stdout",
     "output_type": "stream",
     "text": [
      "(1000, 3072)\n",
      "(1000, 1)\n"
     ]
    }
   ],
   "source": [
    "x_train=x_train[:1000]\n",
    "x_train.shape\n",
    "x_train=x_train.reshape(-1,3072)\n",
    "print x_train.shape\n",
    "\n",
    "\n",
    "y_train=y_train[:1000]\n",
    "print y_train.shape\n",
    "\n",
    "mean_img = np.mean(x_train, axis=0)"
   ]
  },
  {
   "cell_type": "code",
   "execution_count": 6,
   "metadata": {},
   "outputs": [
    {
     "data": {
      "text/plain": [
       "(3072,)"
      ]
     },
     "execution_count": 6,
     "metadata": {},
     "output_type": "execute_result"
    }
   ],
   "source": [
    "mean_img.shape"
   ]
  },
  {
   "cell_type": "code",
   "execution_count": 9,
   "metadata": {},
   "outputs": [
    {
     "name": "stdout",
     "output_type": "stream",
     "text": [
      "Extracting MNIST_data/train-images-idx3-ubyte.gz\n",
      "Extracting MNIST_data/train-labels-idx1-ubyte.gz\n",
      "Extracting MNIST_data/t10k-images-idx3-ubyte.gz\n",
      "Extracting MNIST_data/t10k-labels-idx1-ubyte.gz\n"
     ]
    }
   ],
   "source": [
    "import tensorflow.examples.tutorials.mnist.input_data as input_data\n",
    "mnist = input_data.read_data_sets('MNIST_data', one_hot=True)\n",
    "mean_img = np.mean(mnist.train.images, axis=0)"
   ]
  },
  {
   "cell_type": "code",
   "execution_count": 11,
   "metadata": {},
   "outputs": [
    {
     "name": "stdout",
     "output_type": "stream",
     "text": [
      "(0, 960.71436)\n",
      "(1, 987.54675)\n",
      "(2, 1005.2076)\n",
      "(3, 1023.9537)\n",
      "(4, 1097.3859)\n",
      "(5, 1038.4944)\n",
      "(6, 1069.8582)\n",
      "(7, 1089.6299)\n",
      "(8, 1079.1663)\n",
      "(9, 1052.8561)\n"
     ]
    }
   ],
   "source": [
    "ae=autoencoder()\n",
    "\n",
    "    # %%\n",
    "learning_rate = 0.01\n",
    "optimizer = tf.train.AdamOptimizer(learning_rate).minimize(ae['cost'])\n",
    "\n",
    "    # %%\n",
    "    # We create a session to use the graph\n",
    "sess = tf.Session()\n",
    "sess.run(tf.global_variables_initializer())\n",
    "\n",
    "    # %%\n",
    "    # Fit all training data\n",
    "batch_size = 100\n",
    "n_epochs = 10\n",
    "for epoch_i in range(n_epochs):\n",
    "    for batch_i in range(mnist.train.num_examples // batch_size):\n",
    "        batch_xs, _ = mnist.train.next_batch(batch_size)\n",
    "        train = np.array([img - mean_img for img in batch_xs])\n",
    "        sess.run(optimizer, feed_dict={ae['x']: train})\n",
    "    print(epoch_i, sess.run(ae['cost'], feed_dict={ae['x']: train}))\n",
    "\n",
    "    # %%\n",
    "    # Plot example reconstructions\n"
   ]
  },
  {
   "cell_type": "code",
   "execution_count": 13,
   "metadata": {},
   "outputs": [
    {
     "name": "stdout",
     "output_type": "stream",
     "text": [
      "(10, 784)\n",
      "(10, 784)\n",
      "(2, 10)\n"
     ]
    },
    {
     "data": {
      "image/png": "[encoded data removed]",
      "text/plain": [
       "<matplotlib.figure.Figure at 0x129d15b90>"
      ]
     },
     "metadata": {},
     "output_type": "display_data"
    }
   ],
   "source": [
    "n_examples = 10\n",
    "test_xs, _ = mnist.test.next_batch(n_examples)\n",
    "print test_xs.shape\n",
    "test_xs_norm = np.array([img - mean_img for img in test_xs])\n",
    "recon = sess.run(ae['y'], feed_dict={ae['x']: test_xs_norm})\n",
    "print(recon.shape)\n",
    "fig, axs = plt.subplots(2, n_examples, figsize=(10, 2))\n",
    "print axs.shape\n",
    "\n",
    "for example_i in range(n_examples):\n",
    "    axs[0][example_i].imshow(\n",
    "        np.reshape(test_xs[example_i, :], (28, 28)))\n",
    "    #img=np.reshape(recon[example_i, ...], (784,))\n",
    "    #img += mean_img\n",
    "    axs[1][example_i].imshow(np.reshape(recon[example_i, ...],(28, 28)))\n",
    "fig.show()\n",
    "plt.draw()\n",
    "plt.show()"
   ]
  },
  {
   "cell_type": "code",
   "execution_count": 7,
   "metadata": {
    "collapsed": true
   },
   "outputs": [],
   "source": []
  },
  {
   "cell_type": "code",
   "execution_count": null,
   "metadata": {},
   "outputs": [],
   "source": []
  },
  {
   "cell_type": "code",
   "execution_count": null,
   "metadata": {
    "collapsed": true
   },
   "outputs": [],
   "source": []
  }
 ],
 "metadata": {
  "kernelspec": {
   "display_name": "Python 2",
   "language": "python",
   "name": "python2"
  },
  "language_info": {
   "codemirror_mode": {
    "name": "ipython",
    "version": 2
   },
   "file_extension": ".py",
   "mimetype": "text/x-python",
   "name": "python",
   "nbconvert_exporter": "python",
   "pygments_lexer": "ipython2",
   "version": "2.7.13"
  }
 },
 "nbformat": 4,
 "nbformat_minor": 2
}
